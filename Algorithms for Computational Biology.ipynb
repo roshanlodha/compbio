{
 "cells": [
  {
   "cell_type": "markdown",
   "metadata": {},
   "source": [
    "# Algorithms for Computation Biology #\n",
    "\n",
    "#### Author: Roshan Lodha ####\n",
    "\n",
    "This notebook is a demo I am using to rationalize and learn various algorithms in computational biology, including Needleman-Wunsch, its variants, and Smith-Waterman. Please do NOT use this for actual sequence alignments.\n",
    "\n",
    "Future routes include implementing the BLOSUM subsitution matrix and generalizing to protein sequences. Also, comparing NW and SW to bruteforce would highlight the importance of these algorithms. "
   ]
  },
  {
   "cell_type": "code",
   "execution_count": 1,
   "metadata": {},
   "outputs": [],
   "source": [
    "import numpy as np\n",
    "#function to generate random DNA sequences\n",
    "def dnaseqgen(n, gc=.5):\n",
    "    seq = \"\"\n",
    "    for i in range(n):\n",
    "        if np.random.uniform() <= gc:\n",
    "            if np.random.uniform() <= 0.5:\n",
    "                seq += 'C'\n",
    "            else:\n",
    "                seq += 'G'\n",
    "        else:\n",
    "            if np.random.uniform() <= 0.5:\n",
    "                seq += 'T'\n",
    "            else:\n",
    "                seq += 'A'\n",
    "    return seq"
   ]
  },
  {
   "cell_type": "markdown",
   "metadata": {},
   "source": [
    "## 1. Needleman-Wunsch ##\n",
    "\n",
    "A good starting point is the traditional Needleman-Wunsch algorithm with end-gap penalties."
   ]
  },
  {
   "cell_type": "code",
   "execution_count": 2,
   "metadata": {},
   "outputs": [
    {
     "name": "stdout",
     "output_type": "stream",
     "text": [
      "CTTCTATTGC\n",
      "GCCAGCGCGC\n"
     ]
    }
   ],
   "source": [
    "#global parameters are defined below\n",
    "gap_penalty = -2\n",
    "match = 1\n",
    "mismatch = -1\n",
    "X = dnaseqgen(10) #the first sequence\n",
    "Y = dnaseqgen(10) #the second sequence\n",
    "print(X)\n",
    "print(Y)"
   ]
  },
  {
   "cell_type": "markdown",
   "metadata": {},
   "source": [
    "### Step 1: Initialization ###"
   ]
  },
  {
   "cell_type": "code",
   "execution_count": 3,
   "metadata": {
    "scrolled": true
   },
   "outputs": [
    {
     "name": "stdout",
     "output_type": "stream",
     "text": [
      "[[  0.  -2.  -4.  -6.  -8. -10. -12. -14. -16. -18. -20.]\n",
      " [ -2.   0.   0.   0.   0.   0.   0.   0.   0.   0.   0.]\n",
      " [ -4.   0.   0.   0.   0.   0.   0.   0.   0.   0.   0.]\n",
      " [ -6.   0.   0.   0.   0.   0.   0.   0.   0.   0.   0.]\n",
      " [ -8.   0.   0.   0.   0.   0.   0.   0.   0.   0.   0.]\n",
      " [-10.   0.   0.   0.   0.   0.   0.   0.   0.   0.   0.]\n",
      " [-12.   0.   0.   0.   0.   0.   0.   0.   0.   0.   0.]\n",
      " [-14.   0.   0.   0.   0.   0.   0.   0.   0.   0.   0.]\n",
      " [-16.   0.   0.   0.   0.   0.   0.   0.   0.   0.   0.]\n",
      " [-18.   0.   0.   0.   0.   0.   0.   0.   0.   0.   0.]\n",
      " [-20.   0.   0.   0.   0.   0.   0.   0.   0.   0.   0.]]\n"
     ]
    }
   ],
   "source": [
    "s = np.zeros(shape=(len(X)+1, len(Y)+1))\n",
    "p = np.zeros(shape=(len(X), len(Y)))\n",
    "\n",
    "for x in range(len(X)+1):\n",
    "    s[x][0] = x*gap_penalty\n",
    "    \n",
    "for y in range(len(Y)+1):\n",
    "    s[0][y] = y*gap_penalty\n",
    "    \n",
    "print(s)"
   ]
  },
  {
   "cell_type": "markdown",
   "metadata": {},
   "source": [
    "### Step 2: Recurssion ###"
   ]
  },
  {
   "cell_type": "code",
   "execution_count": 4,
   "metadata": {
    "scrolled": true
   },
   "outputs": [
    {
     "name": "stdout",
     "output_type": "stream",
     "text": [
      "[[  0.  -2.  -4.  -6.  -8. -10. -12. -14. -16. -18. -20.]\n",
      " [ -2.  -1.  -1.  -3.  -5.  -7.  -9. -11. -13. -15. -17.]\n",
      " [ -4.  -3.  -2.  -2.  -4.  -6.  -8. -10. -12. -14. -16.]\n",
      " [ -6.  -5.  -4.  -3.  -3.  -5.  -7.  -9. -11. -13. -15.]\n",
      " [ -8.  -7.  -4.  -3.  -4.  -4.  -4.  -6.  -8. -10. -12.]\n",
      " [-10.  -9.  -6.  -5.  -4.  -5.  -5.  -5.  -7.  -9. -11.]\n",
      " [-12. -11.  -8.  -7.  -4.  -5.  -6.  -6.  -6.  -8. -10.]\n",
      " [-14. -13. -10.  -9.  -6.  -5.  -6.  -7.  -7.  -7.  -9.]\n",
      " [-16. -15. -12. -11.  -8.  -7.  -6.  -7.  -8.  -8.  -8.]\n",
      " [-18. -15. -14. -13. -10.  -7.  -8.  -5.  -7.  -7.  -9.]\n",
      " [-20. -17. -14. -13. -12.  -9.  -6.  -7.  -4.  -6.  -6.]]\n"
     ]
    }
   ],
   "source": [
    "def sim(x, y):\n",
    "    if X[x-1] == Y[y-1]:\n",
    "        return match\n",
    "    return mismatch\n",
    "\n",
    "for x in range(1, len(X)+1):\n",
    "    for y in range(1, len(Y)+1):\n",
    "        diag = s[x-1][y-1] + sim(x, y)\n",
    "        gap_x = s[x][y-1] + gap_penalty\n",
    "        gap_y = s[x-1][y] + gap_penalty\n",
    "        scores = [diag, gap_x, gap_y]\n",
    "        s[x][y] = max(scores)\n",
    "        p[x-1][y-1] = np.argmax(scores)\n",
    "\n",
    "print(s)"
   ]
  },
  {
   "cell_type": "code",
   "execution_count": 5,
   "metadata": {},
   "outputs": [
    {
     "name": "stdout",
     "output_type": "stream",
     "text": [
      "[['`' '`' '`' '<' '<' '`' '<' '`' '<' '`']\n",
      " ['`' '`' '`' '`' '`' '`' '`' '`' '`' '`']\n",
      " ['`' '`' '`' '`' '`' '`' '`' '`' '`' '`']\n",
      " ['`' '`' '`' '`' '`' '`' '<' '`' '<' '`']\n",
      " ['`' '^' '`' '`' '`' '`' '`' '`' '`' '`']\n",
      " ['`' '^' '`' '`' '`' '`' '`' '`' '`' '`']\n",
      " ['`' '^' '`' '^' '`' '`' '`' '`' '`' '`']\n",
      " ['`' '^' '`' '^' '`' '`' '`' '`' '`' '`']\n",
      " ['`' '^' '`' '^' '`' '`' '`' '<' '`' '`']\n",
      " ['^' '`' '`' '^' '^' '`' '^' '`' '<' '`']]\n"
     ]
    }
   ],
   "source": [
    "#This cell is to visualize the path generated by NW. Running it is optional.\n",
    "legend = {0: '`', 1: '<', 2: '^'}\n",
    "p_vis = []\n",
    "for x in range(len(X)):\n",
    "    p_vis.append([])\n",
    "    for y in range(len(Y)):\n",
    "        p_vis[x].append(legend[p[x][y]])\n",
    "\n",
    "print(np.matrix(p_vis))"
   ]
  },
  {
   "cell_type": "markdown",
   "metadata": {},
   "source": [
    "### Step 3: Traceback ###"
   ]
  },
  {
   "cell_type": "code",
   "execution_count": 6,
   "metadata": {
    "scrolled": true
   },
   "outputs": [
    {
     "name": "stdout",
     "output_type": "stream",
     "text": [
      "CTTCTATTGC\n",
      "GCCAGCGCGC\n"
     ]
    }
   ],
   "source": [
    "def traceback(x_pos = len(X)-1, y_pos = len(Y)-1, X_prime=\"\", Y_prime=\"\"):\n",
    "    if x_pos == 0 and y_pos == 0:\n",
    "        X_prime += X[x_pos]\n",
    "        Y_prime += Y[y_pos]\n",
    "        return X_prime[::-1], Y_prime[::-1]\n",
    "    elif p[x_pos][y_pos] == 0:\n",
    "        X_prime += X[x_pos]\n",
    "        Y_prime += Y[y_pos]\n",
    "        return traceback(x_pos-1, y_pos-1, X_prime, Y_prime)\n",
    "    elif p[x_pos][y_pos] == 1:\n",
    "        X_prime += '-'\n",
    "        Y_prime += Y[y_pos]\n",
    "        return traceback(x_pos, y_pos-1, X_prime, Y_prime)\n",
    "    elif p[x_pos][y_pos] == 2:\n",
    "        X_prime += X[x_pos]\n",
    "        Y_prime += '-'\n",
    "        return traceback(x_pos-1, y_pos, X_prime, Y_prime)\n",
    "    else:\n",
    "        print(\"Error during traceback.\")\n",
    "        return\n",
    "        \n",
    "X_aligned, Y_aligned = traceback()\n",
    "print(X_aligned)\n",
    "print(Y_aligned)"
   ]
  }
 ],
 "metadata": {
  "kernelspec": {
   "display_name": "Python 3",
   "language": "python",
   "name": "python3"
  },
  "language_info": {
   "codemirror_mode": {
    "name": "ipython",
    "version": 3
   },
   "file_extension": ".py",
   "mimetype": "text/x-python",
   "name": "python",
   "nbconvert_exporter": "python",
   "pygments_lexer": "ipython3",
   "version": "3.7.2"
  }
 },
 "nbformat": 4,
 "nbformat_minor": 2
}
